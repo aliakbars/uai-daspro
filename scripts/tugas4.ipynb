{
 "cells": [
  {
   "cell_type": "markdown",
   "metadata": {},
   "source": [
    "# Dasar Pemrograman\n",
    "\n",
    "## Tugas 4: Visualisasi Data\n",
    "\n",
    "### Mekanisme\n",
    "\n",
    "Anda hanya diwajibkan untuk mengumpulkan file ini saja ke uploader yang disediakan di http://elearning2.uai.ac.id/. Ganti nama file ini saat pengumpulan menjadi tugas4_NIM.ipynb.\n",
    "\n",
    "Keterlambatan: Pengumpulan tugas yang melebihi tenggat yang telah ditentukan tidak akan diterima. Keterlambatan akan berakibat pada nilai nol untuk tugas ini.\n",
    "\n",
    "Kolaborasi: Anda diperbolehkan untuk berdiskusi dengan teman Anda, tetapi dilarang keras menyalin kode maupun tulisan dari teman Anda.\n",
    "\n",
    "### Petunjuk\n",
    "\n",
    "Terdapat beberapa pustaka yang Anda akan gunakan dalam mengerjakan tugas ini, yaitu: NumPy, SciPy, matplotlib, dan seaborn.\n",
    "\n",
    "Anda tidak diperbolehkan mengimpor modul tambahan untuk tugas ini, kecuali dijelaskan sebaliknya. Namun, seharusnya modul yang tersedia sudah cukup untuk memenuhi kebutuhan Anda.\n",
    "\n",
    "Kebanyakan dari kode yang dibutuhkan untuk menjawab soal-soal ini hanya terdiri dari 1-2 baris saja."
   ]
  },
  {
   "cell_type": "markdown",
   "metadata": {},
   "source": [
    "### Import"
   ]
  },
  {
   "cell_type": "code",
   "execution_count": null,
   "metadata": {
    "collapsed": true
   },
   "outputs": [],
   "source": [
    "import matplotlib.pyplot as plt\n",
    "import numpy as np\n",
    "import pandas as pd\n",
    "import seaborn as sns\n",
    "\n",
    "%matplotlib inline\n",
    "\n",
    "plt.style.use('bmh')"
   ]
  },
  {
   "cell_type": "code",
   "execution_count": null,
   "metadata": {},
   "outputs": [],
   "source": [
    "df = pd.read_csv('https://raw.githubusercontent.com/aliakbars/uai-dm/master/dataset/menu.csv')\n",
    "df.head()"
   ]
  },
  {
   "cell_type": "markdown",
   "metadata": {},
   "source": [
    "### Soal 1.1 (1 poin)\n",
    "\n",
    "Laporkan statistik dari data yang Anda gunakan."
   ]
  },
  {
   "cell_type": "code",
   "execution_count": null,
   "metadata": {},
   "outputs": [],
   "source": []
  },
  {
   "cell_type": "markdown",
   "metadata": {},
   "source": [
    "### Soal 1.2 (1 poin)\n",
    "\n",
    "Tunjukkan semua kolom yang ada dalam dataset."
   ]
  },
  {
   "cell_type": "code",
   "execution_count": null,
   "metadata": {},
   "outputs": [],
   "source": []
  },
  {
   "cell_type": "markdown",
   "metadata": {},
   "source": [
    "### Soal 2 (2 poin)\n",
    "\n",
    "Tampilkan dalam bar plot distribusi dari nilai `Category`."
   ]
  },
  {
   "cell_type": "code",
   "execution_count": null,
   "metadata": {},
   "outputs": [],
   "source": []
  },
  {
   "cell_type": "markdown",
   "metadata": {},
   "source": [
    "### Soal 3.1 (2 poin)\n",
    "\n",
    "Gambarkan histogram dari nilai `Calories`."
   ]
  },
  {
   "cell_type": "code",
   "execution_count": null,
   "metadata": {},
   "outputs": [],
   "source": []
  },
  {
   "cell_type": "markdown",
   "metadata": {},
   "source": [
    "### Soal 3.2 (1 poin)\n",
    "\n",
    "Anda mungkin akan menemukan bahwa ada pencilan dari nilai `Calories`. Tunjukkan menu yang dimaksud."
   ]
  },
  {
   "cell_type": "code",
   "execution_count": null,
   "metadata": {},
   "outputs": [],
   "source": []
  },
  {
   "cell_type": "markdown",
   "metadata": {},
   "source": [
    "### Soal 4.1 (2 poin)\n",
    "\n",
    "Kita ingin mencari tahu angka kebutuhan gizi dari menu yang ada. Untuk itu, gambarkanlah box plot dari:\n",
    "\n",
    "- Total Fat (% Daily Value)\n",
    "- Saturated Fat (% Daily Value)\n",
    "- Cholesterol (% Daily Value)\n",
    "- Sodium (% Daily Value)\n",
    "- Carbohydrates (% Daily Value)\n",
    "- Dietary Fiber (% Daily Value)\n",
    "- Vitamin A (% Daily Value)\n",
    "- Vitamin C (% Daily Value)\n",
    "- Calcium (% Daily Value)\n",
    "- Iron (% Daily Value)\n",
    "\n",
    "Gunakan pustaka [seaborn](https://seaborn.pydata.org/generated/seaborn.boxplot.html) untuk ini."
   ]
  },
  {
   "cell_type": "code",
   "execution_count": null,
   "metadata": {
    "scrolled": false
   },
   "outputs": [],
   "source": []
  },
  {
   "cell_type": "markdown",
   "metadata": {},
   "source": [
    "### Soal 4.2 (2 poin)\n",
    "\n",
    "Dari box plot yang telah Anda hasilkan, Anda akan menemukan bahwa beberapa menu memiliki nilai > 100% angka kebutuhan gizi harian. Cari tahu menu-menu tersebut. Anda dapat menggunakan fungsi `.any(axis=1)` untuk membantu menyeleksi datanya."
   ]
  },
  {
   "cell_type": "code",
   "execution_count": null,
   "metadata": {},
   "outputs": [],
   "source": []
  },
  {
   "cell_type": "markdown",
   "metadata": {},
   "source": [
    "### Soal 4.3 (2 poin)\n",
    "\n",
    "Cari semua menu dengan nilai `Cholesterol (% Daily Value)` > 75."
   ]
  },
  {
   "cell_type": "code",
   "execution_count": null,
   "metadata": {},
   "outputs": [],
   "source": []
  },
  {
   "cell_type": "markdown",
   "metadata": {},
   "source": [
    "### Soal 5.1 (2 poin)\n",
    "\n",
    "Tunjukkan nilai korelasi dari `Total Fat` dan `Cholesterol`."
   ]
  },
  {
   "cell_type": "code",
   "execution_count": null,
   "metadata": {},
   "outputs": [],
   "source": []
  },
  {
   "cell_type": "markdown",
   "metadata": {},
   "source": [
    "### Soal 5.2 (2 poin)\n",
    "\n",
    "Gambarkan scatter plot dan garis regresi dari `Total Fat` dan `Cholesterol`. Anda dapat menggunakan fungsi `lmplot()` dari seaborn."
   ]
  },
  {
   "cell_type": "code",
   "execution_count": null,
   "metadata": {},
   "outputs": [],
   "source": []
  },
  {
   "cell_type": "markdown",
   "metadata": {},
   "source": [
    "### Soal 6.1 (2 poin)\n",
    "\n",
    "Menu dengan kategori apa yang memiliki nilai kalori paling besar? Gambarkan box plot untuk `Calories` dengan membaginya berdasarkan `Category`."
   ]
  },
  {
   "cell_type": "code",
   "execution_count": null,
   "metadata": {},
   "outputs": [],
   "source": []
  },
  {
   "cell_type": "markdown",
   "metadata": {},
   "source": [
    "### Soal 6.2 (2 poin)\n",
    "\n",
    "Gambarkan kembali box plot, tapi kali ini untuk `Cholesterol` dengan membaginya berdasarkan `Category`."
   ]
  },
  {
   "cell_type": "code",
   "execution_count": null,
   "metadata": {},
   "outputs": [],
   "source": []
  },
  {
   "cell_type": "markdown",
   "metadata": {},
   "source": [
    "### Soal 6.3 (4 poin)\n",
    "\n",
    "Bagaimana persebaran nilai `Calories` dan `Cholesterol`? Gambarkan contour plot beserta scatter plot-nya. Silakan merujuk ke [notebook ini](http://nbviewer.jupyter.org/github/aliakbars/uai-python/blob/master/scripts/week9/visualisation.ipynb)."
   ]
  },
  {
   "cell_type": "code",
   "execution_count": null,
   "metadata": {},
   "outputs": [],
   "source": [
    "from scipy.stats import multivariate_normal"
   ]
  },
  {
   "cell_type": "markdown",
   "metadata": {},
   "source": [
    "### Soal 7.1 (2 poin)\n",
    "\n",
    "Hitung nilai korelasi dari `Calories`, `Carbohydrates`, `Sugars`, dan `Protein`."
   ]
  },
  {
   "cell_type": "code",
   "execution_count": null,
   "metadata": {},
   "outputs": [],
   "source": []
  },
  {
   "cell_type": "markdown",
   "metadata": {},
   "source": [
    "### Soal 7.2 (3 poin)\n",
    "\n",
    "Gambarkan heatmap dari korelasi yang Anda hitung di atas. Pastikan Anda menganotasi heatmap tersebut. Silakan rujuk dokumentasi [seaborn](https://seaborn.pydata.org/generated/seaborn.heatmap.html)."
   ]
  },
  {
   "cell_type": "code",
   "execution_count": null,
   "metadata": {},
   "outputs": [],
   "source": []
  }
 ],
 "metadata": {
  "kernelspec": {
   "display_name": "Python 3",
   "language": "python",
   "name": "python3"
  },
  "language_info": {
   "codemirror_mode": {
    "name": "ipython",
    "version": 3
   },
   "file_extension": ".py",
   "mimetype": "text/x-python",
   "name": "python",
   "nbconvert_exporter": "python",
   "pygments_lexer": "ipython3",
   "version": "3.6.2"
  }
 },
 "nbformat": 4,
 "nbformat_minor": 2
}
