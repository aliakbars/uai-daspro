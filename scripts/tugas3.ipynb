{
 "cells": [
  {
   "cell_type": "markdown",
   "metadata": {},
   "source": [
    "# Dasar Pemrograman\n",
    "\n",
    "## Tugas 3: Pengolahan Matriks-Vektor dengan NumPy\n",
    "\n",
    "### Mekanisme\n",
    "\n",
    "Anda hanya diwajibkan untuk mengumpulkan file ini saja ke uploader yang disediakan di http://elearning2.uai.ac.id/. Ganti nama file ini saat pengumpulan menjadi tugas3_NIM.ipynb.\n",
    "\n",
    "Keterlambatan: Pengumpulan tugas yang melebihi tenggat yang telah ditentukan tidak akan diterima. Keterlambatan akan berakibat pada nilai nol untuk tugas ini.\n",
    "\n",
    "Kolaborasi: Anda diperbolehkan untuk berdiskusi dengan teman Anda, tetapi dilarang keras menyalin kode maupun tulisan dari teman Anda.\n",
    "\n",
    "### Petunjuk\n",
    "\n",
    "Terdapat dua packages yang Anda akan gunakan dalam mengerjakan tugas ini, yaitu: NumPy dan SciPy.\n",
    "\n",
    "Anda tidak diperbolehkan mengimpor modul tambahan untuk tugas ini, kecuali dijelaskan sebaliknya. Namun, seharusnya modul yang tersedia sudah cukup untuk memenuhi kebutuhan Anda.\n",
    "\n",
    "Kebanyakan dari kode yang dibutuhkan untuk menjawab soal-soal ini hanya terdiri dari 1-2 baris saja."
   ]
  },
  {
   "cell_type": "markdown",
   "metadata": {},
   "source": [
    "### Import"
   ]
  },
  {
   "cell_type": "code",
   "execution_count": null,
   "metadata": {
    "collapsed": true
   },
   "outputs": [],
   "source": [
    "import numpy as np"
   ]
  },
  {
   "cell_type": "markdown",
   "metadata": {},
   "source": [
    "## 1. Menghitung BMI (15 poin)"
   ]
  },
  {
   "cell_type": "markdown",
   "metadata": {},
   "source": [
    "### Soal 1.1 (2 poin)\n",
    "\n",
    "Anda akan membuat data tinggi dan berat badan dari beberapa orang. Representasikan data tersebut dua vektor (`np.array`) yang disimpan dalam dua variabel seperti berikut:\n",
    "\n",
    "$$\n",
    "x = [165, 170, 159, 181, 163, 177, 153, 190, 151, 160]\n",
    "$$\n",
    "\n",
    "$$\n",
    "y = [84.4, 58.3, 65.7, 43.3, 45.4, 59.0, 49.4, 49.7, 54.3, 55.1]\n",
    "$$\n",
    "\n",
    "dengan $x$ adalah tinggi badan dan $y$ adalah berat badan."
   ]
  },
  {
   "cell_type": "code",
   "execution_count": null,
   "metadata": {
    "collapsed": true
   },
   "outputs": [],
   "source": []
  },
  {
   "cell_type": "markdown",
   "metadata": {},
   "source": [
    "### Soal 1.2 (4 poin)\n",
    "\n",
    "Hitung nilai rata-rata dan standar deviasi dari $x$ dan $y$. Cetak dalam bentuk:\n",
    "\n",
    "$$\n",
    "\\bar{x} \\pm 2SD_x~\\text{dan}~\\bar{y} \\pm 2SD_y\n",
    "$$\n",
    "\n",
    "Contoh:\n",
    "```\n",
    "166.90 +/- 23.82\n",
    "56.46 +/- 22.57\n",
    "```\n",
    "\n",
    "Petunjuk: Gunakan `print`"
   ]
  },
  {
   "cell_type": "code",
   "execution_count": null,
   "metadata": {
    "collapsed": true
   },
   "outputs": [],
   "source": []
  },
  {
   "cell_type": "markdown",
   "metadata": {},
   "source": [
    "### Soal 1.3.a (2 poin)\n",
    "\n",
    "Buatlah fungsi untuk menghitung nilai BMI yang dapat dirumuskan sebagai berikut:\n",
    "\n",
    "$$\n",
    "BMI = \\frac{berat}{(tinggi/100)^2}\n",
    "$$"
   ]
  },
  {
   "cell_type": "code",
   "execution_count": null,
   "metadata": {
    "collapsed": true
   },
   "outputs": [],
   "source": [
    "def bmi(tinggi, berat):\n",
    "    return"
   ]
  },
  {
   "cell_type": "markdown",
   "metadata": {},
   "source": [
    "### Soal 1.3.b (1 poin)\n",
    "\n",
    "Gunakan fungsi tersebut untuk menghitung nilai BMI dari data yang telah Anda miliki. Perhatikan bahwa Anda dapat mendefinisikan fungsi seperti saat memproses skalar, tapi menggunakan vektor sebagai parameter dari fungsi tersebut. Dengan kata lain, fungsinya akan mengembalikan vektor BMI."
   ]
  },
  {
   "cell_type": "code",
   "execution_count": null,
   "metadata": {
    "collapsed": true
   },
   "outputs": [],
   "source": []
  },
  {
   "cell_type": "markdown",
   "metadata": {},
   "source": [
    "### Soal 1.3.c (2 poin)\n",
    "\n",
    "Mereka yang dianggap normal berat badannya adalah orang-orang dengan BMI antara 18.5-24.9. Lakukan perbandingan tersebut dengan nilai vektor BMI lalu hitung berapa banyak orang dengan kategori normal tersebut.\n",
    "\n",
    "Petunjuk: Anda dapat menggunakan fungsi `np.sum()` untuk menghitung jumlahnya setelah perbandingan dilakukan."
   ]
  },
  {
   "cell_type": "code",
   "execution_count": null,
   "metadata": {
    "collapsed": true
   },
   "outputs": [],
   "source": []
  },
  {
   "cell_type": "markdown",
   "metadata": {},
   "source": [
    "### Soal 1.4 (4 poin)\n",
    "\n",
    "Laporkan nilai minimum, maksimum, [Q1, Q2, dan Q3](https://study.com/academy/lesson/upper-quartile-definition-formula.html) dari vektor BMI yang Anda hasilkan.\n",
    "\n",
    "Contoh:\n",
    "```\n",
    "Min: 13.22\n",
    "Q1: 17.52\n",
    "Q2: 20.64\n",
    "Q3: 23.24\n",
    "Max: 31.00\n",
    "```"
   ]
  },
  {
   "cell_type": "code",
   "execution_count": null,
   "metadata": {
    "collapsed": true
   },
   "outputs": [],
   "source": []
  },
  {
   "cell_type": "markdown",
   "metadata": {},
   "source": [
    "## 2. Regresi Linear (10 poin)\n",
    "\n",
    "Kita akan membuat fungsi untuk memprediksi berat badan jika diketahui tinggi badannya. Hal ini dapat dilakukan dengan menggunakan [regresi linear](https://tentangdata.wordpress.com/2015/06/07/simple-linear-regression-bagian-1/). Regresi linear dengan satu variabel dapat dirumuskan sebagai:\n",
    "\n",
    "$$\n",
    "y = \\beta_0 1 + \\beta_1 x\n",
    "$$\n",
    "\n",
    "Dengan kata lain, formula yang ingin kita hasilkan dari data yang dimiliki adalah:\n",
    "\n",
    "$$\n",
    "berat = \\beta_0 + tinggi \\cdot x\n",
    "$$"
   ]
  },
  {
   "cell_type": "markdown",
   "metadata": {},
   "source": [
    "### Soal 2.1 (2 poin)\n",
    "\n",
    "Sebelum mendapatkan nilai $\\beta_0$ dan $\\beta_1$, definisikan fungsi error dengan rumus:\n",
    "\n",
    "$$\n",
    "RMSE = \\sqrt{\\sum_{i=1}^N{(y_i - \\hat{y}_i)^2}}\n",
    "$$\n",
    "\n",
    "Petunjuk: Gunakan fungsi `np.sqrt` dan `np.sum`"
   ]
  },
  {
   "cell_type": "code",
   "execution_count": null,
   "metadata": {
    "collapsed": true
   },
   "outputs": [],
   "source": [
    "def rmse(y, y_hat):\n",
    "    return"
   ]
  },
  {
   "cell_type": "markdown",
   "metadata": {},
   "source": [
    "### Soal 2.2 (2 poin)\n",
    "\n",
    "Seandainya nilai $\\beta_0 = 40$ dan $\\beta_1 = 0.1$, hitung nilai error-nya!"
   ]
  },
  {
   "cell_type": "code",
   "execution_count": null,
   "metadata": {
    "collapsed": true
   },
   "outputs": [],
   "source": []
  },
  {
   "cell_type": "markdown",
   "metadata": {},
   "source": [
    "### Soal 2.3.a (2 poin)\n",
    "\n",
    "Nilai $\\beta_0$ dan $\\beta_1$ dapat dicari dengan menggunakan rumus:\n",
    "\n",
    "$$\n",
    "\\hat{\\mathbf{w}} = (\\mathbf{x}^T\\mathbf{x})^{-1} \\mathbf{x}^T \\mathbf{y}\n",
    "$$\n",
    "\n",
    "Agar bisa dilakukan operasi dalam bentuk matriks, tambahkan matriks 1 sehingga matriks Anda menjadi:\n",
    "\n",
    "```\n",
    "array([[   1.,  165.],\n",
    "       [   1.,  170.],\n",
    "       [   1.,  159.],\n",
    "       [   1.,  181.],\n",
    "       [   1.,  163.],\n",
    "       [   1.,  177.],\n",
    "       [   1.,  153.],\n",
    "       [   1.,  190.],\n",
    "       [   1.,  151.],\n",
    "       [   1.,  160.]])\n",
    "```\n",
    "Simpan matriks baru ini sebagai variabel `X`.\n",
    "\n",
    "Petunjuk: Gunakan fungsi `.reshape`, `np.ones`, dan `np.hstack`"
   ]
  },
  {
   "cell_type": "code",
   "execution_count": null,
   "metadata": {
    "collapsed": true
   },
   "outputs": [],
   "source": []
  },
  {
   "cell_type": "markdown",
   "metadata": {},
   "source": [
    "### Soal 2.3.b (2 poin)\n",
    "\n",
    "Bagian $(\\mathbf{x}^T\\mathbf{x})^{-1} \\mathbf{x}^T$ dikenal juga sebagai *pseudo-inverse*. Nilai ini dapat dihitung secara sederhana dengan memanggil fungsi `np.linalg.pinv()` dari matriks `X` yang Anda hasilkan di soal 2.3.a, lalu lakukan *dot product* dengan $\\mathbf{y}$."
   ]
  },
  {
   "cell_type": "code",
   "execution_count": null,
   "metadata": {
    "collapsed": true
   },
   "outputs": [],
   "source": []
  },
  {
   "cell_type": "markdown",
   "metadata": {},
   "source": [
    "### Soal 2.3.c (2 poin)\n",
    "\n",
    "Nilai pertama dari vektor yang dihasilkan adalah $\\beta_0$, sedangkan nilai keduanya adalah $\\beta_1$. Evaluasi kembali prediksi Anda dengan menggunakan fungsi RMSE yang telah Anda buat di soal 2.1. Apakah RMSE yang dihasilkan lebih baik?"
   ]
  },
  {
   "cell_type": "code",
   "execution_count": null,
   "metadata": {
    "collapsed": true
   },
   "outputs": [],
   "source": []
  }
 ],
 "metadata": {
  "kernelspec": {
   "display_name": "Python 3",
   "language": "python",
   "name": "python3"
  },
  "language_info": {
   "codemirror_mode": {
    "name": "ipython",
    "version": 3
   },
   "file_extension": ".py",
   "mimetype": "text/x-python",
   "name": "python",
   "nbconvert_exporter": "python",
   "pygments_lexer": "ipython3",
   "version": "3.6.2"
  }
 },
 "nbformat": 4,
 "nbformat_minor": 2
}
